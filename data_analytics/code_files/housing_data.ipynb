{
 "cells": [
  {
   "cell_type": "code",
   "execution_count": null,
   "metadata": {},
   "outputs": [],
   "source": []
  },
  {
   "cell_type": "code",
   "execution_count": 3,
   "metadata": {},
   "outputs": [],
   "source": [
    "__author__ = \"Neal Kapur\"\n",
    "import pandas as pd \n",
    "import sys\n",
    "import matplotlib.pyplot as plt\n",
    "import numpy as np\n",
    "import seaborn as sns\n",
    "from scipy.stats import pearsonr\n",
    "import warnings "
   ]
  },
  {
   "cell_type": "code",
   "execution_count": 4,
   "metadata": {},
   "outputs": [
    {
     "data": {
      "text/plain": [
       "['/Users/nealk/DataScience/data_analytics/code_files',\n",
       " '/Library/Frameworks/Python.framework/Versions/3.10/lib/python310.zip',\n",
       " '/Library/Frameworks/Python.framework/Versions/3.10/lib/python3.10',\n",
       " '/Library/Frameworks/Python.framework/Versions/3.10/lib/python3.10/lib-dynload',\n",
       " '',\n",
       " '/Users/nealk/Library/Python/3.10/lib/python/site-packages',\n",
       " '/Library/Frameworks/Python.framework/Versions/3.10/lib/python3.10/site-packages']"
      ]
     },
     "execution_count": 4,
     "metadata": {},
     "output_type": "execute_result"
    }
   ],
   "source": [
    "sys.path"
   ]
  }
 ],
 "metadata": {
  "kernelspec": {
   "display_name": "Python 3",
   "language": "python",
   "name": "python3"
  },
  "language_info": {
   "codemirror_mode": {
    "name": "ipython",
    "version": 3
   },
   "file_extension": ".py",
   "mimetype": "text/x-python",
   "name": "python",
   "nbconvert_exporter": "python",
   "pygments_lexer": "ipython3",
   "version": "3.10.1"
  },
  "orig_nbformat": 4
 },
 "nbformat": 4,
 "nbformat_minor": 2
}
