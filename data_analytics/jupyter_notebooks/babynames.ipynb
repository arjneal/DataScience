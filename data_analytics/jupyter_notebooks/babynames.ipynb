{
 "cells": [
  {
   "cell_type": "code",
   "execution_count": 80,
   "metadata": {},
   "outputs": [],
   "source": [
    "import pandas as pd \n",
    "import matplotlib\n",
    "from csv import DictReader"
   ]
  },
  {
   "cell_type": "code",
   "execution_count": 81,
   "metadata": {},
   "outputs": [],
   "source": [
    "def read_csv_rows(filename: str) -> list[dict[str, str]]:\n",
    "    \"\"\"Read the rows of a csv into a 'table'.\"\"\"\n",
    "    # Returns a list of the rows. \n",
    "    result: list[dict[str, str]] = [] \n",
    "\n",
    "    # Open a handle to the data file\n",
    "    file_handle = open(filename, \"r\", encoding=\"utf8\")\n",
    "    \n",
    "    # Read that file.\n",
    "    # Prepare to read the data file as a CSV rather than just strings.\n",
    "    csv_reader = DictReader(file_handle)\n",
    "\n",
    "    # Read each row of CSV line-by-line\n",
    "    for row in csv_reader:\n",
    "        result.append(row)\n",
    "\n",
    "    # Close that file when we're done, to free its resources.\n",
    "    file_handle.close()\n",
    "\n",
    "    return result\n"
   ]
  },
  {
   "cell_type": "code",
   "execution_count": 82,
   "metadata": {},
   "outputs": [
    {
     "data": {
      "text/html": [
       "<div>\n",
       "<style scoped>\n",
       "    .dataframe tbody tr th:only-of-type {\n",
       "        vertical-align: middle;\n",
       "    }\n",
       "\n",
       "    .dataframe tbody tr th {\n",
       "        vertical-align: top;\n",
       "    }\n",
       "\n",
       "    .dataframe thead th {\n",
       "        text-align: right;\n",
       "    }\n",
       "</style>\n",
       "<table border=\"1\" class=\"dataframe\">\n",
       "  <thead>\n",
       "    <tr style=\"text-align: right;\">\n",
       "      <th></th>\n",
       "      <th>name</th>\n",
       "      <th>sex</th>\n",
       "      <th>ocurence</th>\n",
       "    </tr>\n",
       "  </thead>\n",
       "  <tbody>\n",
       "    <tr>\n",
       "      <th>0</th>\n",
       "      <td>Emma</td>\n",
       "      <td>F</td>\n",
       "      <td>18757</td>\n",
       "    </tr>\n",
       "    <tr>\n",
       "      <th>1</th>\n",
       "      <td>Olivia</td>\n",
       "      <td>F</td>\n",
       "      <td>17993</td>\n",
       "    </tr>\n",
       "    <tr>\n",
       "      <th>2</th>\n",
       "      <td>Ava</td>\n",
       "      <td>F</td>\n",
       "      <td>14975</td>\n",
       "    </tr>\n",
       "    <tr>\n",
       "      <th>3</th>\n",
       "      <td>Isabella</td>\n",
       "      <td>F</td>\n",
       "      <td>14517</td>\n",
       "    </tr>\n",
       "    <tr>\n",
       "      <th>4</th>\n",
       "      <td>Sophia</td>\n",
       "      <td>F</td>\n",
       "      <td>13972</td>\n",
       "    </tr>\n",
       "    <tr>\n",
       "      <th>...</th>\n",
       "      <td>...</td>\n",
       "      <td>...</td>\n",
       "      <td>...</td>\n",
       "    </tr>\n",
       "    <tr>\n",
       "      <th>32157</th>\n",
       "      <td>Zylas</td>\n",
       "      <td>M</td>\n",
       "      <td>5</td>\n",
       "    </tr>\n",
       "    <tr>\n",
       "      <th>32158</th>\n",
       "      <td>Zyran</td>\n",
       "      <td>M</td>\n",
       "      <td>5</td>\n",
       "    </tr>\n",
       "    <tr>\n",
       "      <th>32159</th>\n",
       "      <td>Zyrie</td>\n",
       "      <td>M</td>\n",
       "      <td>5</td>\n",
       "    </tr>\n",
       "    <tr>\n",
       "      <th>32160</th>\n",
       "      <td>Zyron</td>\n",
       "      <td>M</td>\n",
       "      <td>5</td>\n",
       "    </tr>\n",
       "    <tr>\n",
       "      <th>32161</th>\n",
       "      <td>Zzyzx</td>\n",
       "      <td>M</td>\n",
       "      <td>5</td>\n",
       "    </tr>\n",
       "  </tbody>\n",
       "</table>\n",
       "<p>32162 rows × 3 columns</p>\n",
       "</div>"
      ],
      "text/plain": [
       "           name sex  ocurence\n",
       "0          Emma   F     18757\n",
       "1        Olivia   F     17993\n",
       "2           Ava   F     14975\n",
       "3      Isabella   F     14517\n",
       "4        Sophia   F     13972\n",
       "...         ...  ..       ...\n",
       "32157     Zylas   M         5\n",
       "32158     Zyran   M         5\n",
       "32159     Zyrie   M         5\n",
       "32160     Zyron   M         5\n",
       "32161     Zzyzx   M         5\n",
       "\n",
       "[32162 rows x 3 columns]"
      ]
     },
     "execution_count": 82,
     "metadata": {},
     "output_type": "execute_result"
    }
   ],
   "source": [
    "# Read CSV Data Generated from Social Security Administration on Most Popular Baby Names - 2018\n",
    "SURVEY_DATA_CSV_FILE_PATH: str = \"../data/yob2018.csv\"\n",
    "data = pd.read_csv(SURVEY_DATA_CSV_FILE_PATH, names = ['name', 'sex', 'ocurence'])\n",
    "data"
   ]
  },
  {
   "cell_type": "markdown",
   "metadata": {},
   "source": [
    "## Analysis of Male Names "
   ]
  },
  {
   "cell_type": "code",
   "execution_count": 83,
   "metadata": {},
   "outputs": [],
   "source": [
    "# Assign null value to all names assigned sex of female at birth \n",
    "male_data = data.mask(data['sex'] == 'F')\n",
    "# # Drop the null values\n",
    "# male_data = pd.DataFrame(male_data.Sex.notnull())\n",
    "male_data = male_data.dropna()\n",
    "male_data\n",
    "top_ten = male_data.head(10)"
   ]
  },
  {
   "cell_type": "markdown",
   "metadata": {},
   "source": [
    "### Top Ten Male Names"
   ]
  },
  {
   "cell_type": "code",
   "execution_count": 84,
   "metadata": {},
   "outputs": [
    {
     "data": {
      "text/plain": [
       "<BarContainer object of 10 artists>"
      ]
     },
     "execution_count": 84,
     "metadata": {},
     "output_type": "execute_result"
    },
    {
     "data": {
      "image/png": "[encoded data removed]",
      "text/plain": [
       "<Figure size 720x720 with 1 Axes>"
      ]
     },
     "metadata": {
      "needs_background": "light"
     },
     "output_type": "display_data"
    }
   ],
   "source": [
    "matplotlib.rcParams['figure.figsize'] = [10, 10]\n",
    "from matplotlib import pyplot as plt \n",
    "plt.bar(top_ten.name, top_ten.ocurence)"
   ]
  },
  {
   "cell_type": "markdown",
   "metadata": {},
   "source": [
    "## Sort Data"
   ]
  },
  {
   "cell_type": "code",
   "execution_count": 85,
   "metadata": {},
   "outputs": [
    {
     "ename": "KeyError",
     "evalue": "'Occurence'",
     "output_type": "error",
     "traceback": [
      "\u001b[0;31m---------------------------------------------------------------------------\u001b[0m",
      "\u001b[0;31mKeyError\u001b[0m                                  Traceback (most recent call last)",
      "\u001b[1;32m/Users/nealk/DataScience/data_analytics/jupyter_notebooks/babynames.ipynb Cell 9'\u001b[0m in \u001b[0;36m<module>\u001b[0;34m\u001b[0m\n\u001b[1;32m      <a href='vscode-notebook-cell:/Users/nealk/DataScience/data_analytics/jupyter_notebooks/babynames.ipynb#ch0000005?line=0'>1</a>\u001b[0m \u001b[39m# Sort the data by top values \u001b[39;00m\n\u001b[0;32m----> <a href='vscode-notebook-cell:/Users/nealk/DataScience/data_analytics/jupyter_notebooks/babynames.ipynb#ch0000005?line=1'>2</a>\u001b[0m male_data \u001b[39m=\u001b[39m male_data\u001b[39m.\u001b[39;49msort_values(\u001b[39m'\u001b[39;49m\u001b[39mOccurence\u001b[39;49m\u001b[39m'\u001b[39;49m, ascending\u001b[39m=\u001b[39;49m\u001b[39mFalse\u001b[39;49;00m)\n\u001b[1;32m      <a href='vscode-notebook-cell:/Users/nealk/DataScience/data_analytics/jupyter_notebooks/babynames.ipynb#ch0000005?line=2'>3</a>\u001b[0m top_five \u001b[39m=\u001b[39m male_data\u001b[39m.\u001b[39mhead(\u001b[39m10\u001b[39m)\n",
      "File \u001b[0;32m~/Library/Python/3.10/lib/python/site-packages/pandas/util/_decorators.py:311\u001b[0m, in \u001b[0;36mdeprecate_nonkeyword_arguments.<locals>.decorate.<locals>.wrapper\u001b[0;34m(*args, **kwargs)\u001b[0m\n\u001b[1;32m    305\u001b[0m \u001b[39mif\u001b[39;00m \u001b[39mlen\u001b[39m(args) \u001b[39m>\u001b[39m num_allow_args:\n\u001b[1;32m    306\u001b[0m     warnings\u001b[39m.\u001b[39mwarn(\n\u001b[1;32m    307\u001b[0m         msg\u001b[39m.\u001b[39mformat(arguments\u001b[39m=\u001b[39marguments),\n\u001b[1;32m    308\u001b[0m         \u001b[39mFutureWarning\u001b[39;00m,\n\u001b[1;32m    309\u001b[0m         stacklevel\u001b[39m=\u001b[39mstacklevel,\n\u001b[1;32m    310\u001b[0m     )\n\u001b[0;32m--> 311\u001b[0m \u001b[39mreturn\u001b[39;00m func(\u001b[39m*\u001b[39;49margs, \u001b[39m*\u001b[39;49m\u001b[39m*\u001b[39;49mkwargs)\n",
      "File \u001b[0;32m~/Library/Python/3.10/lib/python/site-packages/pandas/core/frame.py:6259\u001b[0m, in \u001b[0;36mDataFrame.sort_values\u001b[0;34m(self, by, axis, ascending, inplace, kind, na_position, ignore_index, key)\u001b[0m\n\u001b[1;32m   6256\u001b[0m \u001b[39melif\u001b[39;00m \u001b[39mlen\u001b[39m(by):\n\u001b[1;32m   6258\u001b[0m     by \u001b[39m=\u001b[39m by[\u001b[39m0\u001b[39m]\n\u001b[0;32m-> 6259\u001b[0m     k \u001b[39m=\u001b[39m \u001b[39mself\u001b[39;49m\u001b[39m.\u001b[39;49m_get_label_or_level_values(by, axis\u001b[39m=\u001b[39;49maxis)\n\u001b[1;32m   6261\u001b[0m     \u001b[39m# need to rewrap column in Series to apply key function\u001b[39;00m\n\u001b[1;32m   6262\u001b[0m     \u001b[39mif\u001b[39;00m key \u001b[39mis\u001b[39;00m \u001b[39mnot\u001b[39;00m \u001b[39mNone\u001b[39;00m:\n\u001b[1;32m   6263\u001b[0m         \u001b[39m# error: Incompatible types in assignment (expression has type\u001b[39;00m\n\u001b[1;32m   6264\u001b[0m         \u001b[39m# \"Series\", variable has type \"ndarray\")\u001b[39;00m\n",
      "File \u001b[0;32m~/Library/Python/3.10/lib/python/site-packages/pandas/core/generic.py:1779\u001b[0m, in \u001b[0;36mNDFrame._get_label_or_level_values\u001b[0;34m(self, key, axis)\u001b[0m\n\u001b[1;32m   1777\u001b[0m     values \u001b[39m=\u001b[39m \u001b[39mself\u001b[39m\u001b[39m.\u001b[39maxes[axis]\u001b[39m.\u001b[39mget_level_values(key)\u001b[39m.\u001b[39m_values\n\u001b[1;32m   1778\u001b[0m \u001b[39melse\u001b[39;00m:\n\u001b[0;32m-> 1779\u001b[0m     \u001b[39mraise\u001b[39;00m \u001b[39mKeyError\u001b[39;00m(key)\n\u001b[1;32m   1781\u001b[0m \u001b[39m# Check for duplicates\u001b[39;00m\n\u001b[1;32m   1782\u001b[0m \u001b[39mif\u001b[39;00m values\u001b[39m.\u001b[39mndim \u001b[39m>\u001b[39m \u001b[39m1\u001b[39m:\n",
      "\u001b[0;31mKeyError\u001b[0m: 'Occurence'"
     ]
    }
   ],
   "source": [
    "# Sort the data by top values \n",
    "male_data = male_data.sort_values('Occurence', ascending=False)\n",
    "top_five = male_data.head(10)\n"
   ]
  },
  {
   "cell_type": "markdown",
   "metadata": {},
   "source": [
    "## Determine the top first letter of the name in a given year"
   ]
  },
  {
   "cell_type": "code",
   "execution_count": null,
   "metadata": {},
   "outputs": [
    {
     "data": {
      "text/plain": [
       "{'A': 1578,\n",
       " 'B': 671,\n",
       " 'C': 717,\n",
       " 'D': 932,\n",
       " 'E': 574,\n",
       " 'F': 197,\n",
       " 'G': 339,\n",
       " 'H': 410,\n",
       " 'I': 248,\n",
       " 'J': 1237,\n",
       " 'K': 1344,\n",
       " 'L': 524,\n",
       " 'M': 928,\n",
       " 'N': 425,\n",
       " 'O': 237,\n",
       " 'P': 230,\n",
       " 'Q': 52,\n",
       " 'R': 764,\n",
       " 'S': 807,\n",
       " 'T': 714,\n",
       " 'U': 49,\n",
       " 'V': 164,\n",
       " 'W': 196,\n",
       " 'X': 60,\n",
       " 'Y': 260,\n",
       " 'Z': 405}"
      ]
     },
     "execution_count": 77,
     "metadata": {},
     "output_type": "execute_result"
    }
   ],
   "source": [
    "result: dict[str, int] = {}\n",
    "for name in male_data[\"name\"]:\n",
    "    if name[0] not in result:\n",
    "        result[name[0]] = 1\n",
    "    else:\n",
    "        result[name[0]] += 1      \n",
    "x = sorted(result.items())\n",
    "first_letters = dict(x)\n",
    "first_letters"
   ]
  },
  {
   "cell_type": "code",
   "execution_count": null,
   "metadata": {},
   "outputs": [
    {
     "data": {
      "text/plain": [
       "<BarContainer object of 26 artists>"
      ]
     },
     "execution_count": 79,
     "metadata": {},
     "output_type": "execute_result"
    },
    {
     "data": {
      "image/png": "[encoded data removed]",
      "text/plain": [
       "<Figure size 720x720 with 1 Axes>"
      ]
     },
     "metadata": {
      "needs_background": "light"
     },
     "output_type": "display_data"
    }
   ],
   "source": [
    "plt.title(\"Frequencies of First Letters in Male Names 2018\")\n",
    "plt.xlabel(\"Letters\")\n",
    "plt.ylabel(\"Counts\")\n",
    "labels: list[str] = list(first_letters.keys())\n",
    "values: list[int] = list(first_letters.values())\n",
    "plt.bar(labels, values)"
   ]
  }
 ],
 "metadata": {
  "kernelspec": {
   "display_name": "Python 3.10.1 64-bit",
   "language": "python",
   "name": "python3"
  },
  "language_info": {
   "codemirror_mode": {
    "name": "ipython",
    "version": 3
   },
   "file_extension": ".py",
   "mimetype": "text/x-python",
   "name": "python",
   "nbconvert_exporter": "python",
   "pygments_lexer": "ipython3",
   "version": "3.10.1"
  },
  "orig_nbformat": 4,
  "vscode": {
   "interpreter": {
    "hash": "aee8b7b246df8f9039afb4144a1f6fd8d2ca17a180786b69acc140d282b71a49"
   }
  }
 },
 "nbformat": 4,
 "nbformat_minor": 2
}
